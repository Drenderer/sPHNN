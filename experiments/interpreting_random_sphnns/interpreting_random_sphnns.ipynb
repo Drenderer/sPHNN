{
 "cells": [
  {
   "cell_type": "markdown",
   "metadata": {},
   "source": [
    "# Interpreting random sPHNNs"
   ]
  },
  {
   "cell_type": "code",
   "execution_count": 1,
   "metadata": {},
   "outputs": [],
   "source": [
    "import sys; sys.path.append('../..')   # Allow relative imports from the parent folder\n",
    "\n",
    "import jax\n",
    "import jax.numpy as jnp\n",
    "import jax.random as jr\n",
    "\n",
    "import numpy as np\n",
    "\n",
    "import matplotlib.pyplot as plt\n",
    "\n",
    "from dynax.function_models import FICNN, LyapunovNN, SkewSymmetricMatrix, SPDMatrix\n",
    "\n",
    "from dynax.derivative_models import ISPHS\n",
    "from dynax import constraints\n",
    "\n",
    "import matplotlib.pyplot as plt"
   ]
  },
  {
   "cell_type": "markdown",
   "metadata": {},
   "source": [
    "#### Create random sPHNN"
   ]
  },
  {
   "cell_type": "code",
   "execution_count": 2,
   "metadata": {},
   "outputs": [],
   "source": [
    "key = jr.key(0)\n",
    "j_key, r_key, h_key = jr.split(key, 3)\n",
    "\n",
    "state_size = 2\n",
    "\n",
    "J = SkewSymmetricMatrix(state_size, key=j_key)\n",
    "R = SPDMatrix(state_size, key=r_key)\n",
    "\n",
    "ficnn = FICNN(state_size, 'scalar', key=h_key)\n",
    "H = LyapunovNN(ficnn, minimum=jnp.zeros(state_size))\n",
    "\n",
    "sphnn = ISPHS(H, J, R)\n",
    "\n",
    "sphnn = constraints.resolve_constraints(sphnn)"
   ]
  },
  {
   "cell_type": "markdown",
   "metadata": {},
   "source": [
    "#### Plot untrained dynamics"
   ]
  },
  {
   "cell_type": "code",
   "execution_count": null,
   "metadata": {},
   "outputs": [],
   "source": [
    "x1, x2 = 2*(jnp.linspace(-4, 4, 100),)\n",
    "X1, X2 = np.meshgrid(x1, x2)\n",
    "X = np.stack([X1, X2], axis=-1)\n",
    "\n",
    "X_t_nomi = jax.vmap(jax.vmap(sphnn, in_axes=(None, 0, None)), in_axes=(None, 0, None))(None, X, None)\n",
    "X_t_cons = jax.vmap(jax.vmap(sphnn.get_conservative_dynamics, in_axes=(None, 0, None)), in_axes=(None, 0, None))(None, X, None)\n",
    "X_t_diss = jax.vmap(jax.vmap(sphnn.get_dissipative_dynamics, in_axes=(None, 0, None)), in_axes=(None, 0, None))(None, X, None)\n",
    "\n",
    "data = {\n",
    "    'conservative': X_t_cons,\n",
    "    'dissipative': X_t_diss,\n",
    "    'total': X_t_nomi,\n",
    "}\n",
    "\n",
    "fig, axes = plt.subplots(1, 3, sharex=True, sharey=True, figsize=(10,4))\n",
    "\n",
    "for ax, (label, X_t) in zip(axes, data.items()):\n",
    "    X1_t, X2_t = np.transpose(X_t, [2, 0, 1])\n",
    "    sp = ax.streamplot(X1, X2, X1_t, X2_t, broken_streamlines=True, density=0.8, linewidth=0.7)\n",
    "    ax.set(\n",
    "        xlim=[min(x1), max(x1)],\n",
    "        ylim=[min(x2), max(x2)],\n",
    "        xticks=[-3,0,3],\n",
    "        yticks=[-3,0,3],\n",
    "        title=label,\n",
    "    )\n",
    "    ax.set_aspect('equal', 'box')\n",
    "\n",
    "fig.tight_layout()\n",
    "fig.subplots_adjust(wspace=0.3, hspace=0)\n",
    "\n",
    "ax0_pos = axes[0].get_position()\n",
    "ax1_pos = axes[1].get_position()\n",
    "ax2_pos = axes[2].get_position()\n",
    "fig.text((ax0_pos.x1 + ax1_pos.x0)/2, 0.5, '+', fontsize=20, ha='center', va='center')\n",
    "fig.text((ax1_pos.x1 + ax2_pos.x0)/2, 0.5, '=', fontsize=20, ha='center', va='center')\n",
    "\n",
    "plt.show()"
   ]
  }
 ],
 "metadata": {
  "kernelspec": {
   "display_name": ".venv",
   "language": "python",
   "name": "python3"
  },
  "language_info": {
   "codemirror_mode": {
    "name": "ipython",
    "version": 3
   },
   "file_extension": ".py",
   "mimetype": "text/x-python",
   "name": "python",
   "nbconvert_exporter": "python",
   "pygments_lexer": "ipython3",
   "version": "3.11.9"
  }
 },
 "nbformat": 4,
 "nbformat_minor": 2
}
